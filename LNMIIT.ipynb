{
  "nbformat": 4,
  "nbformat_minor": 0,
  "metadata": {
    "colab": {
      "name": "LNMIIT.ipynb",
      "version": "0.3.2",
      "provenance": []
    },
    "kernelspec": {
      "name": "python3",
      "display_name": "Python 3"
    }
  },
  "cells": [
    {
      "cell_type": "code",
      "metadata": {
        "id": "-saLop9D1BIE",
        "colab_type": "code",
        "colab": {
          "base_uri": "https://localhost:8080/",
          "height": 35
        },
        "outputId": "1958308a-fc0b-48be-f0a2-24714c92b1bb"
      },
      "source": [
        "print(\"Hello\") "
      ],
      "execution_count": 1,
      "outputs": [
        {
          "output_type": "stream",
          "text": [
            "Hello\n"
          ],
          "name": "stdout"
        }
      ]
    },
    {
      "cell_type": "code",
      "metadata": {
        "id": "BTXCHOcT1DmS",
        "colab_type": "code",
        "colab": {
          "base_uri": "https://localhost:8080/",
          "height": 35
        },
        "outputId": "f9df8870-899a-4983-d4c5-47b3a3538a54"
      },
      "source": [
        "a = 10\n",
        "b = 20.5\n",
        "print(a+b)"
      ],
      "execution_count": 7,
      "outputs": [
        {
          "output_type": "stream",
          "text": [
            "30.5\n"
          ],
          "name": "stdout"
        }
      ]
    },
    {
      "cell_type": "code",
      "metadata": {
        "id": "Wyuse7Rg1I64",
        "colab_type": "code",
        "colab": {}
      },
      "source": [
        "a = 40"
      ],
      "execution_count": 0,
      "outputs": []
    },
    {
      "cell_type": "code",
      "metadata": {
        "id": "pPbCrntZ18DM",
        "colab_type": "code",
        "colab": {
          "base_uri": "https://localhost:8080/",
          "height": 35
        },
        "outputId": "13d37956-bad4-41e1-d2c4-4a10c7a52b99"
      },
      "source": [
        "print(a)"
      ],
      "execution_count": 4,
      "outputs": [
        {
          "output_type": "stream",
          "text": [
            "40\n"
          ],
          "name": "stdout"
        }
      ]
    },
    {
      "cell_type": "code",
      "metadata": {
        "id": "B1FD8jYw19Kw",
        "colab_type": "code",
        "colab": {
          "base_uri": "https://localhost:8080/",
          "height": 53
        },
        "outputId": "26efabd8-6f56-45fc-cd70-3d6469df4298"
      },
      "source": [
        "name = input(\"Enter your Name\")\n",
        "print(\"Hi \"+ name)"
      ],
      "execution_count": 6,
      "outputs": [
        {
          "output_type": "stream",
          "text": [
            "Enter your NamePrateek\n",
            "Hi Prateek\n"
          ],
          "name": "stdout"
        }
      ]
    },
    {
      "cell_type": "code",
      "metadata": {
        "id": "90jmwseS3NnA",
        "colab_type": "code",
        "colab": {
          "base_uri": "https://localhost:8080/",
          "height": 71
        },
        "outputId": "af36d7ab-3fcb-43ec-ba7b-1b5765b0b54f"
      },
      "source": [
        "print(type(a))\n",
        "print(type(b))\n",
        "print(type(name))"
      ],
      "execution_count": 8,
      "outputs": [
        {
          "output_type": "stream",
          "text": [
            "<class 'int'>\n",
            "<class 'float'>\n",
            "<class 'str'>\n"
          ],
          "name": "stdout"
        }
      ]
    },
    {
      "cell_type": "code",
      "metadata": {
        "id": "v5-FM3sA3xY_",
        "colab_type": "code",
        "colab": {
          "base_uri": "https://localhost:8080/",
          "height": 71
        },
        "outputId": "293de4da-f7d5-49be-818a-3ef5f538c744"
      },
      "source": [
        "numbers = input()\n",
        "print(numbers)\n",
        "print(type(numbers))\n",
        "\"1 2 3 4 5\""
      ],
      "execution_count": 9,
      "outputs": [
        {
          "output_type": "stream",
          "text": [
            "1 2 3 4 5\n",
            "1 2 3 4 5\n",
            "<class 'str'>\n"
          ],
          "name": "stdout"
        }
      ]
    },
    {
      "cell_type": "code",
      "metadata": {
        "id": "MZ4Fe5xS36ud",
        "colab_type": "code",
        "colab": {
          "base_uri": "https://localhost:8080/",
          "height": 35
        },
        "outputId": "35563bd9-2030-49e3-cd22-dc371a3d92bc"
      },
      "source": [
        "print(len(numbers))"
      ],
      "execution_count": 11,
      "outputs": [
        {
          "output_type": "stream",
          "text": [
            "9\n"
          ],
          "name": "stdout"
        }
      ]
    },
    {
      "cell_type": "code",
      "metadata": {
        "id": "nE2BbNJp4Kge",
        "colab_type": "code",
        "colab": {
          "base_uri": "https://localhost:8080/",
          "height": 35
        },
        "outputId": "34923c15-baee-44db-a4bf-ecc1600b95b0"
      },
      "source": [
        "s = \"Hello\"\n",
        "print(s[1:4])"
      ],
      "execution_count": 12,
      "outputs": [
        {
          "output_type": "stream",
          "text": [
            "ell\n"
          ],
          "name": "stdout"
        }
      ]
    },
    {
      "cell_type": "code",
      "metadata": {
        "id": "ONonb_PV4-NN",
        "colab_type": "code",
        "colab": {
          "base_uri": "https://localhost:8080/",
          "height": 71
        },
        "outputId": "62c74c24-9229-48de-94e3-ff706e853fee"
      },
      "source": [
        "a = int(input())\n",
        "b = int(input())\n",
        "\n",
        "print(a*b)"
      ],
      "execution_count": 16,
      "outputs": [
        {
          "output_type": "stream",
          "text": [
            "10\n",
            "20\n",
            "200\n"
          ],
          "name": "stdout"
        }
      ]
    },
    {
      "cell_type": "code",
      "metadata": {
        "id": "Z4Sv9r3I5XqP",
        "colab_type": "code",
        "colab": {
          "base_uri": "https://localhost:8080/",
          "height": 35
        },
        "outputId": "8122b893-a3b3-4762-db4e-624163b82035"
      },
      "source": [
        "numbers = \"1 12 34 4 5\"\n",
        "lc = numbers.split()\n",
        "print(lc)"
      ],
      "execution_count": 19,
      "outputs": [
        {
          "output_type": "stream",
          "text": [
            "['1', '12', '34', '4', '5']\n"
          ],
          "name": "stdout"
        }
      ]
    },
    {
      "cell_type": "code",
      "metadata": {
        "id": "noh_OMiI6jzp",
        "colab_type": "code",
        "colab": {
          "base_uri": "https://localhost:8080/",
          "height": 53
        },
        "outputId": "db2ad442-074a-4590-d166-a41271efa5d9"
      },
      "source": [
        "print(len(numbers))\n",
        "print(len(lc))"
      ],
      "execution_count": 20,
      "outputs": [
        {
          "output_type": "stream",
          "text": [
            "11\n",
            "5\n"
          ],
          "name": "stdout"
        }
      ]
    },
    {
      "cell_type": "code",
      "metadata": {
        "id": "Z9jvo33262Ys",
        "colab_type": "code",
        "colab": {
          "base_uri": "https://localhost:8080/",
          "height": 35
        },
        "outputId": "bd080eaa-de38-4778-fd58-c1a530b6995b"
      },
      "source": [
        "lc[1:3] #List Slicing"
      ],
      "execution_count": 22,
      "outputs": [
        {
          "output_type": "execute_result",
          "data": {
            "text/plain": [
              "['12', '34']"
            ]
          },
          "metadata": {
            "tags": []
          },
          "execution_count": 22
        }
      ]
    },
    {
      "cell_type": "code",
      "metadata": {
        "id": "Xm-QyKI07BR5",
        "colab_type": "code",
        "colab": {
          "base_uri": "https://localhost:8080/",
          "height": 107
        },
        "outputId": "75afaf9f-a601-415d-c755-7765a33b7cf5"
      },
      "source": [
        "# Loops\n",
        "for i in range(20,10,2):\n",
        "    print(\"Walk  step\",i)"
      ],
      "execution_count": 27,
      "outputs": [
        {
          "output_type": "stream",
          "text": [
            "Walk  step 20\n",
            "Walk  step 18\n",
            "Walk  step 16\n",
            "Walk  step 14\n",
            "Walk  step 12\n"
          ],
          "name": "stdout"
        }
      ]
    },
    {
      "cell_type": "code",
      "metadata": {
        "id": "4oOKyg-B7WkD",
        "colab_type": "code",
        "colab": {
          "base_uri": "https://localhost:8080/",
          "height": 35
        },
        "outputId": "0a0aa6ea-7d16-4f5d-9589-8b5ee4bbd3cf"
      },
      "source": [
        "lc"
      ],
      "execution_count": 28,
      "outputs": [
        {
          "output_type": "execute_result",
          "data": {
            "text/plain": [
              "['1', '12', '34', '4', '5']"
            ]
          },
          "metadata": {
            "tags": []
          },
          "execution_count": 28
        }
      ]
    },
    {
      "cell_type": "code",
      "metadata": {
        "id": "YV0j1nwo8T-B",
        "colab_type": "code",
        "colab": {
          "base_uri": "https://localhost:8080/",
          "height": 107
        },
        "outputId": "4b146749-6fe5-4042-9916-a88af9ef46b0"
      },
      "source": [
        "# For Each Loop\n",
        "li = []\n",
        "\n",
        "for x in lc:\n",
        "    print(x,len(x))"
      ],
      "execution_count": 29,
      "outputs": [
        {
          "output_type": "stream",
          "text": [
            "1 1\n",
            "12 2\n",
            "34 2\n",
            "4 1\n",
            "5 1\n"
          ],
          "name": "stdout"
        }
      ]
    },
    {
      "cell_type": "code",
      "metadata": {
        "id": "d9GFFIox8iOY",
        "colab_type": "code",
        "colab": {}
      },
      "source": [
        "li = [1,2]"
      ],
      "execution_count": 0,
      "outputs": []
    },
    {
      "cell_type": "code",
      "metadata": {
        "id": "doOhsBbA9Fr4",
        "colab_type": "code",
        "colab": {
          "base_uri": "https://localhost:8080/",
          "height": 35
        },
        "outputId": "19470051-16ca-4a15-af4b-f92826548d6f"
      },
      "source": [
        "li.append(5)\n",
        "print(li)"
      ],
      "execution_count": 32,
      "outputs": [
        {
          "output_type": "stream",
          "text": [
            "[1, 2, 5]\n"
          ],
          "name": "stdout"
        }
      ]
    },
    {
      "cell_type": "code",
      "metadata": {
        "id": "vkFuN0-v9RpY",
        "colab_type": "code",
        "colab": {
          "base_uri": "https://localhost:8080/",
          "height": 35
        },
        "outputId": "1089326c-43b6-45ef-e2c3-8a93b0161fad"
      },
      "source": [
        "li.insert(2,10)\n",
        "print(li)"
      ],
      "execution_count": 35,
      "outputs": [
        {
          "output_type": "stream",
          "text": [
            "[1, 2, 10, 5, 10]\n"
          ],
          "name": "stdout"
        }
      ]
    },
    {
      "cell_type": "code",
      "metadata": {
        "id": "shX1n8fR9c4F",
        "colab_type": "code",
        "colab": {
          "base_uri": "https://localhost:8080/",
          "height": 125
        },
        "outputId": "91aad8a8-e42e-4173-8db4-57794bf99ece"
      },
      "source": [
        "i = 1\n",
        "\n",
        "while i<=16:\n",
        "    print(i)\n",
        "    i = i*2\n",
        "print(\"hi\")"
      ],
      "execution_count": 39,
      "outputs": [
        {
          "output_type": "stream",
          "text": [
            "1\n",
            "2\n",
            "4\n",
            "8\n",
            "16\n",
            "hi\n"
          ],
          "name": "stdout"
        }
      ]
    },
    {
      "cell_type": "code",
      "metadata": {
        "id": "rSNvY1VQ-QRw",
        "colab_type": "code",
        "colab": {
          "base_uri": "https://localhost:8080/",
          "height": 35
        },
        "outputId": "1c7cf811-6d7d-4350-80b8-93ec90ba4c29"
      },
      "source": [
        "li.clear()\n",
        "print(li)"
      ],
      "execution_count": 41,
      "outputs": [
        {
          "output_type": "stream",
          "text": [
            "[]\n"
          ],
          "name": "stdout"
        }
      ]
    },
    {
      "cell_type": "code",
      "metadata": {
        "id": "RMtrWbUn-wy3",
        "colab_type": "code",
        "colab": {
          "base_uri": "https://localhost:8080/",
          "height": 35
        },
        "outputId": "868c6a11-1f0b-4928-d071-cd193ca3b0ab"
      },
      "source": [
        "li = []\n",
        "for x in lc:\n",
        "    li.append(int(x))\n",
        "print(li)"
      ],
      "execution_count": 42,
      "outputs": [
        {
          "output_type": "stream",
          "text": [
            "[1, 12, 34, 4, 5]\n"
          ],
          "name": "stdout"
        }
      ]
    },
    {
      "cell_type": "code",
      "metadata": {
        "id": "biz1TIz4_J0F",
        "colab_type": "code",
        "colab": {
          "base_uri": "https://localhost:8080/",
          "height": 35
        },
        "outputId": "67fa2df8-6f01-4247-f96a-75fc3598f6d8"
      },
      "source": [
        "#List Comprehension\n",
        "squares = [x**2 for x in li]\n",
        "print(squares)"
      ],
      "execution_count": 45,
      "outputs": [
        {
          "output_type": "stream",
          "text": [
            "[1, 144, 1156, 16, 25]\n"
          ],
          "name": "stdout"
        }
      ]
    },
    {
      "cell_type": "code",
      "metadata": {
        "id": "-WOX8p6r_Ttu",
        "colab_type": "code",
        "colab": {
          "base_uri": "https://localhost:8080/",
          "height": 71
        },
        "outputId": "ce2efb67-c1e6-4ced-a4d1-700ce96df32f"
      },
      "source": [
        "nl = [int(x) for x in input().split()]\n",
        "print(nl)\n",
        "print(sum(nl))"
      ],
      "execution_count": 50,
      "outputs": [
        {
          "output_type": "stream",
          "text": [
            "1 2 4  5\n",
            "[1, 2, 4, 5]\n",
            "12\n"
          ],
          "name": "stdout"
        }
      ]
    },
    {
      "cell_type": "code",
      "metadata": {
        "id": "P7gU6mHk_tyj",
        "colab_type": "code",
        "colab": {
          "base_uri": "https://localhost:8080/",
          "height": 35
        },
        "outputId": "9e48b521-f2d3-404f-c5b6-d2dcdd9d8a34"
      },
      "source": [
        "s = 0\n",
        "for x in nl:\n",
        "    s = s + x\n",
        "print(s)"
      ],
      "execution_count": 51,
      "outputs": [
        {
          "output_type": "stream",
          "text": [
            "12\n"
          ],
          "name": "stdout"
        }
      ]
    },
    {
      "cell_type": "code",
      "metadata": {
        "id": "9H4MB0lgAY-b",
        "colab_type": "code",
        "colab": {}
      },
      "source": [
        "# List \n",
        "# Tuple\n",
        "# Dictionary"
      ],
      "execution_count": 0,
      "outputs": []
    },
    {
      "cell_type": "code",
      "metadata": {
        "id": "He0s_gvTAtiz",
        "colab_type": "code",
        "colab": {
          "base_uri": "https://localhost:8080/",
          "height": 53
        },
        "outputId": "9ec950eb-1aba-41ee-fc30-897b76ae89bb"
      },
      "source": [
        "l = [1,2,3,4,\"Hello\",[4,5]]\n",
        "print(type(l))\n",
        "l[0] = 10\n",
        "print(l)"
      ],
      "execution_count": 57,
      "outputs": [
        {
          "output_type": "stream",
          "text": [
            "<class 'list'>\n",
            "[10, 2, 3, 4, 'Hello', [4, 5]]\n"
          ],
          "name": "stdout"
        }
      ]
    },
    {
      "cell_type": "code",
      "metadata": {
        "id": "NRj64Z50Ax8H",
        "colab_type": "code",
        "colab": {
          "base_uri": "https://localhost:8080/",
          "height": 53
        },
        "outputId": "3df5bf67-30e6-4ef0-8233-1dff80034bc8"
      },
      "source": [
        "t1 = (1,2,'a')\n",
        "t2 = (1,2,3,4,(5,6),[8,9])\n",
        "print(type(t1))\n",
        "print(type(t2))"
      ],
      "execution_count": 59,
      "outputs": [
        {
          "output_type": "stream",
          "text": [
            "<class 'tuple'>\n",
            "<class 'tuple'>\n"
          ],
          "name": "stdout"
        }
      ]
    },
    {
      "cell_type": "code",
      "metadata": {
        "id": "eW6M0R9BA-U5",
        "colab_type": "code",
        "colab": {
          "base_uri": "https://localhost:8080/",
          "height": 35
        },
        "outputId": "22bef870-119e-459d-bd91-8cacac28aa64"
      },
      "source": [
        "# Dictionary (Hashmap)\n",
        "d = {\n",
        "    \"Mango\":70,\n",
        "    \"Apple\":{\"Indian\":90,\"Washington\":120},\n",
        "    \"Guava\":50\n",
        "}\n",
        "\n",
        "print(d)"
      ],
      "execution_count": 71,
      "outputs": [
        {
          "output_type": "stream",
          "text": [
            "{'Mango': 70, 'Apple': {'Indian': 90, 'Washington': 120}, 'Guava': 50}\n"
          ],
          "name": "stdout"
        }
      ]
    },
    {
      "cell_type": "code",
      "metadata": {
        "id": "kvZs-QOzBpiU",
        "colab_type": "code",
        "colab": {
          "base_uri": "https://localhost:8080/",
          "height": 35
        },
        "outputId": "ce46ab06-a9d6-4958-957d-1a2889e4b464"
      },
      "source": [
        "d[\"Apple\"][\"Indian\"]"
      ],
      "execution_count": 72,
      "outputs": [
        {
          "output_type": "execute_result",
          "data": {
            "text/plain": [
              "90"
            ]
          },
          "metadata": {
            "tags": []
          },
          "execution_count": 72
        }
      ]
    },
    {
      "cell_type": "code",
      "metadata": {
        "id": "39-_V00qB2gf",
        "colab_type": "code",
        "colab": {
          "base_uri": "https://localhost:8080/",
          "height": 35
        },
        "outputId": "25c3eef7-fc45-444a-c504-c13298152423"
      },
      "source": [
        "if d.get(\"Banana\") is None:\n",
        "    print(\"Banana doesn't exist\")\n",
        "else:\n",
        "    print(d[\"Banana\"])"
      ],
      "execution_count": 73,
      "outputs": [
        {
          "output_type": "stream",
          "text": [
            "Banana doesn't exist\n"
          ],
          "name": "stdout"
        }
      ]
    },
    {
      "cell_type": "code",
      "metadata": {
        "id": "z3gEIADzCd3D",
        "colab_type": "code",
        "colab": {}
      },
      "source": [
        "def fact(n):\n",
        "    ans = 1\n",
        "    for i in range(2,n+1):\n",
        "        ans = ans*i\n",
        "    \n",
        "    return ans"
      ],
      "execution_count": 0,
      "outputs": []
    },
    {
      "cell_type": "code",
      "metadata": {
        "id": "5WRfjetGDSIN",
        "colab_type": "code",
        "colab": {
          "base_uri": "https://localhost:8080/",
          "height": 35
        },
        "outputId": "8da0531b-ad81-4253-dc0c-115a05ef45c1"
      },
      "source": [
        "fact(6)"
      ],
      "execution_count": 75,
      "outputs": [
        {
          "output_type": "execute_result",
          "data": {
            "text/plain": [
              "720"
            ]
          },
          "metadata": {
            "tags": []
          },
          "execution_count": 75
        }
      ]
    },
    {
      "cell_type": "code",
      "metadata": {
        "id": "-X5Vyz_DDamN",
        "colab_type": "code",
        "colab": {
          "base_uri": "https://localhost:8080/",
          "height": 35
        },
        "outputId": "d8b4bee3-e118-4071-8fcc-c520837bb1fa"
      },
      "source": [
        "fact(3)"
      ],
      "execution_count": 77,
      "outputs": [
        {
          "output_type": "execute_result",
          "data": {
            "text/plain": [
              "6"
            ]
          },
          "metadata": {
            "tags": []
          },
          "execution_count": 77
        }
      ]
    },
    {
      "cell_type": "code",
      "metadata": {
        "id": "nL1-VAlrDlfo",
        "colab_type": "code",
        "colab": {}
      },
      "source": [
        "def pattern(n):\n",
        "    for i in range(1,n+1):\n",
        "        print(\"*\"*i)\n",
        "    "
      ],
      "execution_count": 0,
      "outputs": []
    },
    {
      "cell_type": "code",
      "metadata": {
        "id": "Omnyc3rEEFMc",
        "colab_type": "code",
        "colab": {
          "base_uri": "https://localhost:8080/",
          "height": 89
        },
        "outputId": "27792a77-0d7e-4787-ab99-109ef645dcef"
      },
      "source": [
        "pattern(4)"
      ],
      "execution_count": 79,
      "outputs": [
        {
          "output_type": "stream",
          "text": [
            "*\n",
            "**\n",
            "***\n",
            "****\n"
          ],
          "name": "stdout"
        }
      ]
    },
    {
      "cell_type": "code",
      "metadata": {
        "id": "tNa9z4OeEF62",
        "colab_type": "code",
        "colab": {
          "base_uri": "https://localhost:8080/",
          "height": 125
        },
        "outputId": "05c53333-e46d-4586-abdc-513b3316e82e"
      },
      "source": [
        "pattern(6)"
      ],
      "execution_count": 80,
      "outputs": [
        {
          "output_type": "stream",
          "text": [
            "*\n",
            "**\n",
            "***\n",
            "****\n",
            "*****\n",
            "******\n"
          ],
          "name": "stdout"
        }
      ]
    },
    {
      "cell_type": "code",
      "metadata": {
        "id": "hlHqcDmvEHPu",
        "colab_type": "code",
        "colab": {}
      },
      "source": [
        ""
      ],
      "execution_count": 0,
      "outputs": []
    }
  ]
}